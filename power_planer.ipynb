{
 "cells": [
  {
   "cell_type": "code",
   "execution_count": 1,
   "metadata": {},
   "outputs": [
    {
     "name": "stdout",
     "output_type": "stream",
     "text": [
      "example_payloads       power_planer.ipynb  README.md\r\n",
      "example_response.json  power_planer.py\r\n"
     ]
    }
   ],
   "source": [
    "!ls"
   ]
  },
  {
   "cell_type": "code",
   "execution_count": 2,
   "metadata": {},
   "outputs": [],
   "source": [
    "import json\n",
    "\n",
    "with open('example_payloads/payload1.json') as f:\n",
    "  data = json.load(f)"
   ]
  },
  {
   "cell_type": "code",
   "execution_count": 9,
   "metadata": {},
   "outputs": [
    {
     "data": {
      "text/plain": [
       "dict_keys(['load', 'fuels', 'powerplants'])"
      ]
     },
     "execution_count": 9,
     "metadata": {},
     "output_type": "execute_result"
    }
   ],
   "source": [
    "data.keys()"
   ]
  },
  {
   "cell_type": "code",
   "execution_count": 10,
   "metadata": {},
   "outputs": [
    {
     "data": {
      "text/plain": [
       "480"
      ]
     },
     "execution_count": 10,
     "metadata": {},
     "output_type": "execute_result"
    }
   ],
   "source": [
    "data['load']"
   ]
  },
  {
   "cell_type": "code",
   "execution_count": 11,
   "metadata": {},
   "outputs": [
    {
     "data": {
      "text/plain": [
       "{'gas(euro/MWh)': 13.4,\n",
       " 'kerosine(euro/MWh)': 50.8,\n",
       " 'co2(euro/ton)': 20,\n",
       " 'wind(%)': 60}"
      ]
     },
     "execution_count": 11,
     "metadata": {},
     "output_type": "execute_result"
    }
   ],
   "source": [
    "data['fuels']"
   ]
  },
  {
   "cell_type": "code",
   "execution_count": 8,
   "metadata": {},
   "outputs": [
    {
     "data": {
      "text/plain": [
       "[{'name': 'gasfiredbig1',\n",
       "  'type': 'gasfired',\n",
       "  'efficiency': 0.53,\n",
       "  'pmin': 100,\n",
       "  'pmax': 460},\n",
       " {'name': 'gasfiredbig2',\n",
       "  'type': 'gasfired',\n",
       "  'efficiency': 0.53,\n",
       "  'pmin': 100,\n",
       "  'pmax': 460},\n",
       " {'name': 'gasfiredsomewhatsmaller',\n",
       "  'type': 'gasfired',\n",
       "  'efficiency': 0.37,\n",
       "  'pmin': 40,\n",
       "  'pmax': 210},\n",
       " {'name': 'tj1', 'type': 'turbojet', 'efficiency': 0.3, 'pmin': 0, 'pmax': 16},\n",
       " {'name': 'windpark1',\n",
       "  'type': 'windturbine',\n",
       "  'efficiency': 1,\n",
       "  'pmin': 0,\n",
       "  'pmax': 150},\n",
       " {'name': 'windpark2',\n",
       "  'type': 'windturbine',\n",
       "  'efficiency': 1,\n",
       "  'pmin': 0,\n",
       "  'pmax': 36}]"
      ]
     },
     "execution_count": 8,
     "metadata": {},
     "output_type": "execute_result"
    }
   ],
   "source": [
    "data['powerplants']"
   ]
  },
  {
   "cell_type": "code",
   "execution_count": 7,
   "metadata": {},
   "outputs": [
    {
     "data": {
      "text/plain": [
       "dict_keys(['load', 'fuels', 'powerplants'])"
      ]
     },
     "execution_count": 7,
     "metadata": {},
     "output_type": "execute_result"
    }
   ],
   "source": [
    "data.keys()"
   ]
  },
  {
   "cell_type": "code",
   "execution_count": 30,
   "metadata": {},
   "outputs": [
    {
     "data": {
      "text/plain": [
       "[{'name': 'gasfiredbig1',\n",
       "  'type': 'gasfired',\n",
       "  'efficiency': 0.53,\n",
       "  'pmin': 100,\n",
       "  'pmax': 460},\n",
       " {'name': 'gasfiredbig2',\n",
       "  'type': 'gasfired',\n",
       "  'efficiency': 0.53,\n",
       "  'pmin': 100,\n",
       "  'pmax': 460},\n",
       " {'name': 'gasfiredsomewhatsmaller',\n",
       "  'type': 'gasfired',\n",
       "  'efficiency': 0.37,\n",
       "  'pmin': 40,\n",
       "  'pmax': 210},\n",
       " {'name': 'tj1', 'type': 'turbojet', 'efficiency': 0.3, 'pmin': 0, 'pmax': 16},\n",
       " {'name': 'windpark1',\n",
       "  'type': 'windturbine',\n",
       "  'efficiency': 1,\n",
       "  'pmin': 0,\n",
       "  'pmax': 150},\n",
       " {'name': 'windpark2',\n",
       "  'type': 'windturbine',\n",
       "  'efficiency': 1,\n",
       "  'pmin': 0,\n",
       "  'pmax': 36}]"
      ]
     },
     "execution_count": 30,
     "metadata": {},
     "output_type": "execute_result"
    }
   ],
   "source": [
    "data['powerplants']"
   ]
  },
  {
   "cell_type": "markdown",
   "metadata": {},
   "source": [
    "# First step: Using wind plants because their use cost is zero"
   ]
  },
  {
   "cell_type": "code",
   "execution_count": 49,
   "metadata": {},
   "outputs": [],
   "source": []
  },
  {
   "cell_type": "code",
   "execution_count": 67,
   "metadata": {},
   "outputs": [],
   "source": [
    "required_load = data['load']\n",
    "required_load = 151"
   ]
  },
  {
   "cell_type": "code",
   "execution_count": null,
   "metadata": {},
   "outputs": [],
   "source": []
  },
  {
   "cell_type": "code",
   "execution_count": 68,
   "metadata": {},
   "outputs": [],
   "source": [
    "wind_plants = [plant for plant in data['powerplants'] if plant['type'] == 'windturbine']"
   ]
  },
  {
   "cell_type": "code",
   "execution_count": 69,
   "metadata": {},
   "outputs": [],
   "source": [
    "response = []\n",
    "wind_total_load = 0\n",
    "for plant in wind_plants:\n",
    "    if wind_total_load + plant['pmax']*plant['efficiency'] >= required_load:\n",
    "        response.append({'name': plant['name'], 'p': required_load - wind_total_load})\n",
    "        wind_total_load = required_load\n",
    "    else:\n",
    "        response.append({'name': plant['name'], 'p': plant['pmax']})\n",
    "        wind_total_load += plant['pmax']"
   ]
  },
  {
   "cell_type": "code",
   "execution_count": 70,
   "metadata": {},
   "outputs": [
    {
     "data": {
      "text/plain": [
       "[{'name': 'windpark1', 'p': 150}, {'name': 'windpark2', 'p': 1}]"
      ]
     },
     "execution_count": 70,
     "metadata": {},
     "output_type": "execute_result"
    }
   ],
   "source": [
    "response"
   ]
  },
  {
   "cell_type": "markdown",
   "metadata": {},
   "source": [
    "# Second step: Using wind plants because their use cost is zero"
   ]
  }
 ],
 "metadata": {
  "kernelspec": {
   "display_name": "Python 3",
   "language": "python",
   "name": "python3"
  },
  "language_info": {
   "codemirror_mode": {
    "name": "ipython",
    "version": 3
   },
   "file_extension": ".py",
   "mimetype": "text/x-python",
   "name": "python",
   "nbconvert_exporter": "python",
   "pygments_lexer": "ipython3",
   "version": "3.7.1"
  }
 },
 "nbformat": 4,
 "nbformat_minor": 2
}
